{
 "cells": [
  {
   "cell_type": "code",
   "execution_count": 1,
   "id": "841838e8",
   "metadata": {},
   "outputs": [],
   "source": [
    "#sources\n",
    "#https://www.educative.io/answers/how-to-use-curl-in-python\n",
    "#https://pypi.org/project/sgp4/#:~:text=Project%20description%201%20Usage%20You%20will%20probably%20first,8%20Providing%20your%20own%20elements%20...%20More%20items"
   ]
  },
  {
   "cell_type": "code",
   "execution_count": 2,
   "id": "649524c8",
   "metadata": {},
   "outputs": [
    {
     "name": "stdout",
     "output_type": "stream",
     "text": [
      "Requirement already satisfied: sgp4 in c:\\users\\dhire\\anaconda3\\lib\\site-packages (2.22)Note: you may need to restart the kernel to use updated packages.\n",
      "Requirement already satisfied: pycurl in c:\\users\\dhire\\anaconda3\\lib\\site-packages (7.43.0.6)\n",
      "\n"
     ]
    }
   ],
   "source": [
    "pip install sgp4 pycurl"
   ]
  },
  {
   "cell_type": "code",
   "execution_count": 3,
   "id": "bd9506ea",
   "metadata": {},
   "outputs": [],
   "source": [
    "from sgp4.api import accelerated\n",
    "from sgp4.api import Satrec\n",
    "import linecache\n",
    "from io import StringIO    \n",
    "import pycurl\n",
    "from io import BytesIO\n",
    "import tempfile \n",
    "import linecache\n",
    "import csv\n"
   ]
  },
  {
   "cell_type": "code",
   "execution_count": 4,
   "id": "7bfa0a4e",
   "metadata": {},
   "outputs": [],
   "source": [
    "# Create a new cURL object\n",
    "curl = pycurl.Curl()\n",
    "\n",
    "# Set the URL to fetch\n",
    "curl.setopt(curl.URL, 'https://celestrak.org/NORAD/elements/gp.php?GROUP=active&FORMAT=tle')\n",
    "\n",
    "# Create a BytesIO object to store the response\n",
    "buffer = BytesIO()\n",
    "curl.setopt(curl.WRITEDATA, buffer)\n",
    "\n",
    "# Perform the request\n",
    "curl.perform()\n",
    "\n",
    "# Get the response body\n",
    "response = buffer.getvalue()\n",
    "\n",
    "\n",
    "with open('tele_data.txt', 'w') as f:\n",
    "    f.write(response.decode('utf-8'))\n",
    "\n",
    "# Close the cURL object\n",
    "curl.close()"
   ]
  },
  {
   "cell_type": "code",
   "execution_count": 5,
   "id": "573cb3d9",
   "metadata": {},
   "outputs": [],
   "source": [
    "with open( \"tele_data.txt\", 'r') as r, open( 'tele_data_updated.txt', 'w') as o: \n",
    "      \n",
    "    for line in r: \n",
    "        #strip() function \n",
    "        if line.strip(): \n",
    "            o.write(line) \n",
    "  \n",
    "f = open(\"tele_data_updated.txt\", \"r\") "
   ]
  },
  {
   "cell_type": "code",
   "execution_count": 6,
   "id": "84b6d814",
   "metadata": {},
   "outputs": [],
   "source": [
    "with open('tele_data_updated.txt', 'r') as fp:\n",
    "    lines = len(fp.readlines())\n",
    "    "
   ]
  },
  {
   "cell_type": "code",
   "execution_count": 7,
   "id": "4c3de123",
   "metadata": {},
   "outputs": [
    {
     "name": "stdout",
     "output_type": "stream",
     "text": [
      "8678\n"
     ]
    }
   ],
   "source": [
    "max_num_sats = int(lines/3)\n",
    "print(max_num_sats)"
   ]
  },
  {
   "cell_type": "code",
   "execution_count": 8,
   "id": "35963b38",
   "metadata": {},
   "outputs": [],
   "source": [
    "def sat_name(sat_num):\n",
    "        name_location = 1 + 3*(sat_num-1)\n",
    "        name = linecache.getline('tele_data_updated.txt', name_location)\n",
    "        name = name.strip()\n",
    "        return name"
   ]
  },
  {
   "cell_type": "code",
   "execution_count": 9,
   "id": "f1bab3e7",
   "metadata": {},
   "outputs": [],
   "source": [
    "def locate_tle(sat_num):\n",
    "        name_location = 1 + 3*(sat_num-1)\n",
    "        #print(name_location)\n",
    "        s = linecache.getline('tele_data_updated.txt', name_location+1)\n",
    "        t = linecache.getline('tele_data_updated.txt', name_location+2)\n",
    "        s = s.strip()\n",
    "        t = t.strip()\n",
    "        return s, t"
   ]
  },
  {
   "cell_type": "code",
   "execution_count": 10,
   "id": "65006da1",
   "metadata": {},
   "outputs": [],
   "source": [
    "def sat_xyz(s,t):\n",
    "    satellite = Satrec.twoline2rv(s, t)\n",
    "\n",
    "    jd, fr = 2460224, 0.5\n",
    "    e, r, v = satellite.sgp4(jd, fr)\n",
    "    return r"
   ]
  },
  {
   "cell_type": "code",
   "execution_count": 11,
   "id": "dfd28c79",
   "metadata": {},
   "outputs": [],
   "source": [
    "with open('sat_data.csv', 'w', newline='') as file:\n",
    "    writer = csv.writer(file)\n",
    "    for x in range(1,max_num_sats):\n",
    "        name = sat_name(x)\n",
    "        s=locate_tle(x)[0]\n",
    "        t=locate_tle(x)[1]\n",
    "        x_pos, y_pos, z_pos = sat_xyz(s,t)\n",
    "        writer.writerow([name, x_pos, y_pos, z_pos])\n",
    "    file.close()\n"
   ]
  }
 ],
 "metadata": {
  "kernelspec": {
   "display_name": "Python 3",
   "language": "python",
   "name": "python3"
  },
  "language_info": {
   "codemirror_mode": {
    "name": "ipython",
    "version": 3
   },
   "file_extension": ".py",
   "mimetype": "text/x-python",
   "name": "python",
   "nbconvert_exporter": "python",
   "pygments_lexer": "ipython3",
   "version": "3.8.8"
  }
 },
 "nbformat": 4,
 "nbformat_minor": 5
}
